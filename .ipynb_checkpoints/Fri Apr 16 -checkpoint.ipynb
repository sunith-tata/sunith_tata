{
 "cells": [
  {
   "cell_type": "markdown",
   "metadata": {},
   "source": [
    "# Loops"
   ]
  },
  {
   "cell_type": "code",
   "execution_count": 1,
   "metadata": {},
   "outputs": [
    {
     "name": "stdout",
     "output_type": "stream",
     "text": [
      "2\n",
      "4\n",
      "6\n",
      "8\n",
      "10\n",
      "12\n",
      "14\n",
      "16\n",
      "18\n",
      "20\n"
     ]
    }
   ],
   "source": [
    "for i in range(2,21,2):\n",
    "    print(i)\n",
    "    \n",
    "   \n"
   ]
  },
  {
   "cell_type": "code",
   "execution_count": null,
   "metadata": {},
   "outputs": [],
   "source": [
    "n=int(input())\n",
    "n2=int(input())\n",
    "for i in range(n,n2+1):\n",
    "    if i%2==0:\n",
    "        print(i,end=',')"
   ]
  },
  {
   "cell_type": "code",
   "execution_count": null,
   "metadata": {},
   "outputs": [],
   "source": [
    "n=int(input())\n",
    "sum=0\n",
    "for i in range(1,n+1):\n",
    "    print(i,end=' ')\n",
    "    sum=sum+i\n",
    "average=sum/n\n",
    "print(\"\\naverage=\",average)"
   ]
  },
  {
   "cell_type": "code",
   "execution_count": null,
   "metadata": {
    "scrolled": true
   },
   "outputs": [],
   "source": [
    "n1=int(input())\n",
    "n2=int(input())\n",
    "sum=0\n",
    "n3=(n2-n1)+1\n",
    "for i in range(n1,n2+1):\n",
    "        sum=sum+i\n",
    "        print(i,end=' ')\n",
    "print(\"\\neven sum:\",sum)\n",
    "print(\"even avg:\",sum/n3)"
   ]
  },
  {
   "cell_type": "code",
   "execution_count": null,
   "metadata": {
    "scrolled": true
   },
   "outputs": [],
   "source": [
    "n1=input()\n",
    "n2=input()\n",
    "sum=0\n",
    "count=0\n",
    "for i in range(int(n1),int(n2)):\n",
    "        sum=sum+i\n",
    "        count=+i\n",
    "        print(i,end=' ')\n",
    "print(\"\\nsum:\",sum)\n",
    "print(\"avg:\",sum/count)"
   ]
  },
  {
   "cell_type": "code",
   "execution_count": null,
   "metadata": {},
   "outputs": [],
   "source": [
    "import time\n",
    "time.ctime()"
   ]
  },
  {
   "cell_type": "code",
   "execution_count": null,
   "metadata": {},
   "outputs": [],
   "source": [
    "n=int(input())\n",
    "fact=1\n",
    "for i in range(1,n+1):\n",
    "    fact=fact*i\n",
    "print(fact)\n",
    "    "
   ]
  },
  {
   "cell_type": "code",
   "execution_count": null,
   "metadata": {},
   "outputs": [],
   "source": [
    "n=int(input())\n",
    "flag=0\n",
    "for i in range(2,n):\n",
    "        if n%i==0:\n",
    "            flag=1\n",
    "if flag==1:\n",
    "    print(n,\"is not a prime\")\n",
    "else:\n",
    "    print(n,\"is a prime\")\n",
    "    \n"
   ]
  },
  {
   "cell_type": "code",
   "execution_count": null,
   "metadata": {},
   "outputs": [],
   "source": [
    "n=int(input())\n",
    "f=0\n",
    "for i in range(1,n):\n",
    "    if(n%i==0):\n",
    "        f+=i\n",
    "if n==f:\n",
    "    print(\"perfect number\")\n",
    "else:\n",
    "    print(\"not a perfect\")"
   ]
  },
  {
   "cell_type": "code",
   "execution_count": null,
   "metadata": {},
   "outputs": [],
   "source": [
    "n=int(input())\n",
    "f=0\n",
    "fact=1\n",
    "if(n%2==0):\n",
    "    for i in range(1,n):\n",
    "        if(n%i==0):\n",
    "            f+=i\n",
    "else:\n",
    "    for i in range(1,n+1):\n",
    "         fact=fact*i\n",
    "    print(fact)\n",
    "            \n",
    "if n==f:\n",
    "    print(n,\"is perfect number\")\n",
    "else:\n",
    "    print(n,\"is not a perfect number\")\n"
   ]
  },
  {
   "cell_type": "code",
   "execution_count": null,
   "metadata": {},
   "outputs": [],
   "source": [
    "n=int(input())\n",
    "for i in range(1,11):\n",
    "    print(n,\"*\",i,\"=\",n*i)"
   ]
  },
  {
   "cell_type": "code",
   "execution_count": null,
   "metadata": {},
   "outputs": [],
   "source": [
    "n=int(input())\n",
    "for i in range(1,n+1):\n",
    "    print(i)\n",
    "    if i==6:\n",
    "        break"
   ]
  },
  {
   "cell_type": "code",
   "execution_count": null,
   "metadata": {},
   "outputs": [],
   "source": [
    "n=int(input())\n",
    "for i in range(1,n+1):\n",
    "    if i==6:\n",
    "        continue\n",
    "    print(i,end=' ')"
   ]
  },
  {
   "cell_type": "code",
   "execution_count": null,
   "metadata": {},
   "outputs": [],
   "source": [
    "n1=int(input())\n",
    "n2=int(input())\n",
    "for j in range(n1,n2+1):\n",
    "    for i in range(1,11):\n",
    "        print(j,\"*\",i,\"=\",j*i)"
   ]
  },
  {
   "cell_type": "code",
   "execution_count": null,
   "metadata": {},
   "outputs": [],
   "source": [
    "n=input()\n",
    "for i in n:\n",
    "    print(i)"
   ]
  },
  {
   "cell_type": "code",
   "execution_count": null,
   "metadata": {},
   "outputs": [],
   "source": [
    "print(ord(\"a\"))\n",
    "(chr(65))"
   ]
  },
  {
   "cell_type": "code",
   "execution_count": null,
   "metadata": {},
   "outputs": [],
   "source": [
    "n=input()\n",
    "for i in n:\n",
    "    print(ord(i))"
   ]
  },
  {
   "cell_type": "code",
   "execution_count": null,
   "metadata": {},
   "outputs": [],
   "source": [
    "n=input()\n",
    "for i in n:\n",
    "    if (ord(i)%2==0):\n",
    "        print(i)"
   ]
  },
  {
   "cell_type": "code",
   "execution_count": null,
   "metadata": {},
   "outputs": [],
   "source": [
    "n=input()\n",
    "for i in n:\n",
    "    if (ord(i)%2!=0):\n",
    "        j=((ord(i)+ord(i))/56)\n",
    "        print(chr(int(j)),end='')\n",
    "    else:\n",
    "         print(i,end='')\n",
    "        "
   ]
  },
  {
   "cell_type": "markdown",
   "metadata": {},
   "source": [
    "# While"
   ]
  },
  {
   "cell_type": "code",
   "execution_count": null,
   "metadata": {},
   "outputs": [],
   "source": [
    "i=1\n",
    "while i<11:\n",
    "    print(i,end=' ')\n",
    "    i+=1"
   ]
  },
  {
   "cell_type": "code",
   "execution_count": 4,
   "metadata": {},
   "outputs": [
    {
     "name": "stdout",
     "output_type": "stream",
     "text": [
      "2,4,6,8,10,"
     ]
    }
   ],
   "source": [
    "i=1\n",
    "while i<11:\n",
    "    if i%2==0:\n",
    "        print(i,end=',')\n",
    "    i+=1"
   ]
  },
  {
   "cell_type": "code",
   "execution_count": 5,
   "metadata": {},
   "outputs": [
    {
     "name": "stdout",
     "output_type": "stream",
     "text": [
      "Sunith\n",
      "welcome to Vignan Sunith\n"
     ]
    }
   ],
   "source": [
    "name=input()\n",
    "def sample():\n",
    "    print(\"welcome to Vignan\",name)\n",
    "sample()"
   ]
  },
  {
   "cell_type": "code",
   "execution_count": 10,
   "metadata": {},
   "outputs": [
    {
     "name": "stdout",
     "output_type": "stream",
     "text": [
      "5\n",
      "4\n",
      "mul of 5 and 4 is 20\n"
     ]
    }
   ],
   "source": [
    "n=int(input())\n",
    "n1=int(input())\n",
    "def globe():\n",
    "    print(\"mul of\",n,\"and\",n1,\"is\",n*n1)\n",
    "globe()"
   ]
  },
  {
   "cell_type": "code",
   "execution_count": 11,
   "metadata": {},
   "outputs": [
    {
     "name": "stdout",
     "output_type": "stream",
     "text": [
      "mul of 5 and 4 is 20\n"
     ]
    }
   ],
   "source": [
    "def globe(n,n1):\n",
    "    print(\"mul of\",n,\"and\",n1,\"is\",n*n1)\n",
    "globe(5,4)"
   ]
  },
  {
   "cell_type": "code",
   "execution_count": 3,
   "metadata": {},
   "outputs": [
    {
     "name": "stdout",
     "output_type": "stream",
     "text": [
      "5\n",
      "120\n"
     ]
    }
   ],
   "source": [
    "n=int(input())\n",
    "def sample1():\n",
    "    f=0\n",
    "    fact=1\n",
    "    if(n%2==0):\n",
    "        for i in range(1,n):\n",
    "            if(n%i==0):\n",
    "                f+=i\n",
    "        if n==f:\n",
    "            print(n,\"is perfect number\")\n",
    "        else:\n",
    "            print(n,\"is not a perfect number\")\n",
    "\n",
    "    else:\n",
    "        for i in range(1,n+1):\n",
    "              fact=fact*i\n",
    "        print(fact)\n",
    "            \n",
    "sample1()\n"
   ]
  },
  {
   "cell_type": "code",
   "execution_count": 2,
   "metadata": {},
   "outputs": [
    {
     "name": "stdout",
     "output_type": "stream",
     "text": [
      "2\n",
      "5\n",
      "Name is: 2\n",
      "organization is: 5\n"
     ]
    }
   ],
   "source": [
    "name=input()\n",
    "org=input()\n",
    "def Required():\n",
    "    print(\"Name is:\",name)\n",
    "    print(\"organization is:\",org)\n",
    "Required()"
   ]
  },
  {
   "cell_type": "code",
   "execution_count": 3,
   "metadata": {},
   "outputs": [
    {
     "name": "stdout",
     "output_type": "stream",
     "text": [
      "add= 22\n",
      "mul= 200\n"
     ]
    }
   ],
   "source": [
    "def Default(a,b,c=10):\n",
    "    print(\"add=\",a+b+c)\n",
    "    print(\"mul=\",a*b*c)\n",
    "Default(10,2)"
   ]
  },
  {
   "cell_type": "code",
   "execution_count": 4,
   "metadata": {},
   "outputs": [
    {
     "name": "stdout",
     "output_type": "stream",
     "text": [
      "name: sunithtata\n",
      "user name: sunith143\n"
     ]
    }
   ],
   "source": [
    "def keyword(fname,lname,uname):\n",
    "    print(\"name:\",fname+lname)\n",
    "    print(\"user name:\",uname)\n",
    "keyword(uname=\"sunith143\",fname=\"sunith\",lname=\"tata\")"
   ]
  },
  {
   "cell_type": "code",
   "execution_count": null,
   "metadata": {},
   "outputs": [],
   "source": []
  }
 ],
 "metadata": {
  "kernelspec": {
   "display_name": "Python 3",
   "language": "python",
   "name": "python3"
  },
  "language_info": {
   "codemirror_mode": {
    "name": "ipython",
    "version": 3
   },
   "file_extension": ".py",
   "mimetype": "text/x-python",
   "name": "python",
   "nbconvert_exporter": "python",
   "pygments_lexer": "ipython3",
   "version": "3.8.5"
  }
 },
 "nbformat": 4,
 "nbformat_minor": 4
}

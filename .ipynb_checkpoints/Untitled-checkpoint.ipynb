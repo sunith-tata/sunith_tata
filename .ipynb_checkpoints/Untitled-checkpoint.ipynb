{
 "cells": [
  {
   "cell_type": "markdown",
   "metadata": {},
   "source": [
    "### operators in python\n",
    "* **Arithmatic operators**\n",
    "* **Assignment operators**\n",
    "* **Relational Operators**\n",
    "* **Logical operators**\n",
    "* **Membership Operators**\n",
    "* **identity operators**\n",
    "* **Bitwise operators**"
   ]
  },
  {
   "cell_type": "code",
   "execution_count": null,
   "metadata": {},
   "outputs": [],
   "source": [
    "a=int(input())\n",
    "b=int(input())\n",
    "print(a+b)\n",
    "print(a-b)\n",
    "print(a/b)\n",
    "print(a*b)\n",
    "print(a%b)\n",
    "print(a//b)"
   ]
  },
  {
   "cell_type": "code",
   "execution_count": null,
   "metadata": {},
   "outputs": [],
   "source": [
    "# Relational Operators\n",
    "a=int(input())\n",
    "b=int(input())\n",
    "print(a==b)\n",
    "print(a!=b)\n",
    "print(a>b)\n",
    "print(a<b)\n",
    "print(a>=b)\n",
    "print(a<=b)"
   ]
  },
  {
   "cell_type": "code",
   "execution_count": null,
   "metadata": {},
   "outputs": [],
   "source": [
    "#Assignment operators\n",
    "a=int(input())\n",
    "b=int(input())\n",
    "a+=b\n",
    "print(a)\n",
    "a-=b\n",
    "print(a)\n",
    "a/=b\n",
    "print(a)\n",
    "a*=b\n",
    "print(a)"
   ]
  },
  {
   "cell_type": "code",
   "execution_count": null,
   "metadata": {},
   "outputs": [],
   "source": [
    "a=int(input())\n",
    "b=int(input())\n",
    "print(a>5 and b<5)\n",
    "print(a==5 or b==5)\n",
    "print(not a)"
   ]
  },
  {
   "cell_type": "code",
   "execution_count": null,
   "metadata": {},
   "outputs": [],
   "source": [
    "#Membership Operators\n",
    "s=\"python\"\n",
    "print('p' in s)\n",
    "'y' not in s"
   ]
  },
  {
   "cell_type": "code",
   "execution_count": null,
   "metadata": {},
   "outputs": [],
   "source": [
    "#Identity Operators\n",
    "a=10\n",
    "b=20\n",
    "print(a is not b)\n",
    "a is b"
   ]
  },
  {
   "cell_type": "code",
   "execution_count": null,
   "metadata": {},
   "outputs": [],
   "source": [
    "#Bitwise Operators\n",
    "a=int(input())\n",
    "b=int(input())\n",
    "print(a&b)\n",
    "print(a|b)\n",
    "print(a^b)\n",
    "print(a>>3)\n",
    "print(b<<3)"
   ]
  },
  {
   "cell_type": "code",
   "execution_count": null,
   "metadata": {},
   "outputs": [],
   "source": [
    "print(bin(9))"
   ]
  },
  {
   "cell_type": "code",
   "execution_count": null,
   "metadata": {},
   "outputs": [],
   "source": [
    "print(0b1001)"
   ]
  },
  {
   "cell_type": "code",
   "execution_count": null,
   "metadata": {},
   "outputs": [],
   "source": [
    "#Conditional Statements\n",
    "n=-3\n",
    "if n>0:\n",
    "    print(n,\"is a positive integer\")\n",
    "else:\n",
    "    print(n,\"is a negative integer\")\n",
    "\n"
   ]
  },
  {
   "cell_type": "code",
   "execution_count": null,
   "metadata": {},
   "outputs": [],
   "source": [
    "n=2\n",
    "if n%2==0:\n",
    "    print(n,\"is a even integer\")\n",
    "else:\n",
    "    print(n,\"is a odd integer\")"
   ]
  },
  {
   "cell_type": "code",
   "execution_count": null,
   "metadata": {},
   "outputs": [],
   "source": [
    "n=int(input())\n",
    "if ((n%4==0) and (n%100!=0) or (n%400==0)):\n",
    "    print('leap year')\n",
    "else:\n",
    "    print('Not a leap year')"
   ]
  },
  {
   "cell_type": "code",
   "execution_count": null,
   "metadata": {},
   "outputs": [],
   "source": [
    "a=int(input())\n",
    "b=int(input())\n",
    "c=int(input())\n",
    "if a>b:\n",
    "    if a>c:\n",
    "        print(\"a is largest\",a)\n",
    "    else:\n",
    "        print(\"c is largest\",c)\n",
    "else:\n",
    "    if b>c:\n",
    "        print(\"b is largest\",b)\n",
    "    else:\n",
    "        print(\"c is largest\",c)"
   ]
  },
  {
   "cell_type": "code",
   "execution_count": null,
   "metadata": {},
   "outputs": [],
   "source": [
    "a=int(input())\n",
    "b=int(input())\n",
    "c=int(input())\n",
    "print(max(a,b,c),'is largest')"
   ]
  },
  {
   "cell_type": "code",
   "execution_count": null,
   "metadata": {},
   "outputs": [],
   "source": [
    "s=input()\n",
    "for i in s:\n",
    "    if i in (\"a\",\"e\",'i','o','u','A','E','I','O','U'):\n",
    "        print(i)"
   ]
  },
  {
   "cell_type": "code",
   "execution_count": null,
   "metadata": {},
   "outputs": [],
   "source": [
    "n=input(\"Enter username\")\n",
    "s=input(\"Enter Password\")\n",
    "p=\"Sunith\"\n",
    "G=\"123sungee\"\n",
    "k='geeth'\n",
    "l='123geesun'\n",
    "if n==p and  s==G:\n",
    "        print('welcome',n)\n",
    "elif n==k and s==l:\n",
    "        print('welcome',n)\n",
    "else:\n",
    "    print(\"Invalid Match\")"
   ]
  },
  {
   "cell_type": "code",
   "execution_count": 3,
   "metadata": {},
   "outputs": [
    {
     "name": "stdout",
     "output_type": "stream",
     "text": [
      "5\n",
      "4\n",
      " 1.Add\n",
      " 2.Sub\n",
      " 3.Mul\n",
      " 4.Div\n",
      " 5.Mod\n",
      " 6.Power\n",
      "choice:3\n",
      "20\n"
     ]
    }
   ],
   "source": [
    "n1=int(input())\n",
    "n2=int(input())\n",
    "print(\" 1.Add\\n 2.Sub\\n 3.Mul\\n 4.Div\\n 5.Mod\\n 6.Power\")\n",
    "n3=int(input(\"choice:\"))\n",
    "if n3==1:\n",
    "    print(n1+n2)\n",
    "elif n3==2:\n",
    "    print(n1-n2)\n",
    "elif n3==3:\n",
    "    print(n1*n2)\n",
    "elif n3==4:\n",
    "    print(n1/n2)\n",
    "elif n3==5:\n",
    "    print(n1%n2)\n",
    "else:\n",
    "    print(n1**n2)"
   ]
  },
  {
   "cell_type": "code",
   "execution_count": null,
   "metadata": {},
   "outputs": [],
   "source": []
  },
  {
   "cell_type": "code",
   "execution_count": null,
   "metadata": {},
   "outputs": [],
   "source": []
  }
 ],
 "metadata": {
  "kernelspec": {
   "display_name": "Python 3",
   "language": "python",
   "name": "python3"
  },
  "language_info": {
   "codemirror_mode": {
    "name": "ipython",
    "version": 3
   },
   "file_extension": ".py",
   "mimetype": "text/x-python",
   "name": "python",
   "nbconvert_exporter": "python",
   "pygments_lexer": "ipython3",
   "version": "3.8.5"
  }
 },
 "nbformat": 4,
 "nbformat_minor": 4
}

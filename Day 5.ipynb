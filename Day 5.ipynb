{
 "cells": [
  {
   "cell_type": "code",
   "execution_count": 9,
   "metadata": {},
   "outputs": [
    {
     "name": "stdout",
     "output_type": "stream",
     "text": [
      "average: 30.0\n"
     ]
    }
   ],
   "source": [
    "with open(\"marks.txt\") as f:\n",
    "    data=f.read()\n",
    "    marks=data.split()\n",
    "    sum=0\n",
    "    for i in marks:\n",
    "        sum+=int(i)\n",
    "    print(\"average:\",sum/len(marks))\n",
    "    "
   ]
  },
  {
   "cell_type": "code",
   "execution_count": 11,
   "metadata": {},
   "outputs": [
    {
     "name": "stdout",
     "output_type": "stream",
     "text": [
      "40.0\n"
     ]
    }
   ],
   "source": [
    "with open(\"marks.txt\") as f:\n",
    "    data=f.read()\n",
    "    marks=data.split()\n",
    "    pc=0\n",
    "    for i in marks:\n",
    "        if int(i)>=35:\n",
    "            pc+=1\n",
    "    print(pc/len(marks)*100)"
   ]
  },
  {
   "cell_type": "code",
   "execution_count": 12,
   "metadata": {},
   "outputs": [
    {
     "name": "stdout",
     "output_type": "stream",
     "text": [
      "60.0\n"
     ]
    }
   ],
   "source": [
    "with open(\"marks.txt\") as f:\n",
    "    data=f.read()\n",
    "    marks=data.split()\n",
    "    pc=0\n",
    "    for i in marks:\n",
    "        if int(i)<=35:\n",
    "            pc+=1\n",
    "    print(pc/len(marks)*100)"
   ]
  },
  {
   "cell_type": "code",
   "execution_count": 18,
   "metadata": {},
   "outputs": [
    {
     "name": "stdout",
     "output_type": "stream",
     "text": [
      "37.5\n"
     ]
    }
   ],
   "source": [
    "with open(\"marks.txt\") as f:\n",
    "    data=f.read()\n",
    "    marks=data.split()\n",
    "    pc=0\n",
    "    for i in marks:\n",
    "        if int(i)>75:\n",
    "            pc+=1\n",
    "    print(pc/len(marks)*100)"
   ]
  },
  {
   "cell_type": "code",
   "execution_count": 20,
   "metadata": {},
   "outputs": [
    {
     "name": "stdout",
     "output_type": "stream",
     "text": [
      "1\n",
      "1\n"
     ]
    }
   ],
   "source": [
    "with open(\"marks.txt\") as f:\n",
    "    data=f.read()\n",
    "    marks=data.split()\n",
    "    print(marks.count(min(marks)))\n",
    "    print(marks.count(max(marks)))"
   ]
  },
  {
   "cell_type": "code",
   "execution_count": 22,
   "metadata": {},
   "outputs": [
    {
     "name": "stdout",
     "output_type": "stream",
     "text": [
      "10\n",
      "python\n",
      "online\n",
      "program\n",
      "20\n",
      "24\n",
      "34\n"
     ]
    }
   ],
   "source": [
    "def varlen(*args):\n",
    "    for a in args:\n",
    "        print(a)\n",
    "varlen(10,'python','online','program',20,24,34)"
   ]
  },
  {
   "cell_type": "code",
   "execution_count": 40,
   "metadata": {},
   "outputs": [
    {
     "name": "stdout",
     "output_type": "stream",
     "text": [
      "(3, 'c')\n",
      "a\n",
      "{1: 'a', 2: 'b', 4: 'd'}\n",
      "{1: 'a', 2: 'b', 4: 'd', 5: 6}\n"
     ]
    }
   ],
   "source": [
    "d={1:'a',2:'b',3:'c'}\n",
    "print(d.popitem())\n",
    "print(d.get(1))\n",
    "d.update({4:'d'})\n",
    "print(d)\n",
    "d.setdefault(5,6)\n",
    "print(d)"
   ]
  },
  {
   "cell_type": "code",
   "execution_count": 46,
   "metadata": {},
   "outputs": [
    {
     "data": {
      "text/plain": [
       "{'key1': 20, 'key2': 20}"
      ]
     },
     "execution_count": 46,
     "metadata": {},
     "output_type": "execute_result"
    }
   ],
   "source": [
    "t1=('key1','key2')\n",
    "d1=dict.fromkeys(t1,20)\n",
    "d1"
   ]
  },
  {
   "cell_type": "code",
   "execution_count": 48,
   "metadata": {},
   "outputs": [
    {
     "data": {
      "text/plain": [
       "set"
      ]
     },
     "execution_count": 48,
     "metadata": {},
     "output_type": "execute_result"
    }
   ],
   "source": [
    "s=set()\n",
    "type(s)"
   ]
  },
  {
   "cell_type": "code",
   "execution_count": 89,
   "metadata": {},
   "outputs": [
    {
     "name": "stdout",
     "output_type": "stream",
     "text": [
      "{1, 3, 4}\n",
      "{1, 3, 4, 9}\n",
      "{1, 3, 4, 9, 9.005, 19, 'k'}\n",
      "{3, 4, 9, 9.005, 19, 'k'}\n",
      "{4, 9, 9.005, 19, 'k'}\n",
      "{19, 9.005, 4, 'k'}\n",
      "{4, 9.005, 19, 'k'}\n",
      "set()\n",
      "set()\n"
     ]
    }
   ],
   "source": [
    "s={1,2,3,3,4}\n",
    "g={1,2,8,9,0}\n",
    "s.remove(2)\n",
    "print(s)\n",
    "s.add(9)\n",
    "print(s)\n",
    "s.update({9,19,'k',09.005})\n",
    "print(s)\n",
    "s.pop()\n",
    "print(s)\n",
    "s.discard(3)\n",
    "print(s)\n",
    "m=s.difference(g)\n",
    "print(m)\n",
    "s.difference_update(g)\n",
    "print(s)\n",
    "l=s.intersection(g)\n",
    "print(l)\n",
    "s.intersection_update(g)\n",
    "print(s)"
   ]
  },
  {
   "cell_type": "code",
   "execution_count": 58,
   "metadata": {},
   "outputs": [
    {
     "name": "stdout",
     "output_type": "stream",
     "text": [
      "1\n",
      "2\n",
      "3\n",
      "4\n"
     ]
    }
   ],
   "source": [
    "s={1,2,2,3,3,4}\n",
    "for i in s:\n",
    "    print(i)"
   ]
  },
  {
   "cell_type": "code",
   "execution_count": 55,
   "metadata": {},
   "outputs": [
    {
     "data": {
      "text/plain": [
       "['__and__',\n",
       " '__class__',\n",
       " '__contains__',\n",
       " '__delattr__',\n",
       " '__dir__',\n",
       " '__doc__',\n",
       " '__eq__',\n",
       " '__format__',\n",
       " '__ge__',\n",
       " '__getattribute__',\n",
       " '__gt__',\n",
       " '__hash__',\n",
       " '__iand__',\n",
       " '__init__',\n",
       " '__init_subclass__',\n",
       " '__ior__',\n",
       " '__isub__',\n",
       " '__iter__',\n",
       " '__ixor__',\n",
       " '__le__',\n",
       " '__len__',\n",
       " '__lt__',\n",
       " '__ne__',\n",
       " '__new__',\n",
       " '__or__',\n",
       " '__rand__',\n",
       " '__reduce__',\n",
       " '__reduce_ex__',\n",
       " '__repr__',\n",
       " '__ror__',\n",
       " '__rsub__',\n",
       " '__rxor__',\n",
       " '__setattr__',\n",
       " '__sizeof__',\n",
       " '__str__',\n",
       " '__sub__',\n",
       " '__subclasshook__',\n",
       " '__xor__',\n",
       " 'add',\n",
       " 'clear',\n",
       " 'copy',\n",
       " 'difference',\n",
       " 'difference_update',\n",
       " 'discard',\n",
       " 'intersection',\n",
       " 'intersection_update',\n",
       " 'isdisjoint',\n",
       " 'issubset',\n",
       " 'issuperset',\n",
       " 'pop',\n",
       " 'remove',\n",
       " 'symmetric_difference',\n",
       " 'symmetric_difference_update',\n",
       " 'union',\n",
       " 'update']"
      ]
     },
     "execution_count": 55,
     "metadata": {},
     "output_type": "execute_result"
    }
   ],
   "source": [
    "dir(set)"
   ]
  },
  {
   "cell_type": "code",
   "execution_count": 94,
   "metadata": {},
   "outputs": [
    {
     "name": "stdout",
     "output_type": "stream",
     "text": [
      "{1, 2}\n",
      "{1, 2}\n",
      "{0, 8, 9}\n"
     ]
    }
   ],
   "source": [
    "s={1,2,3,3,4}\n",
    "g={1,2,8,9,0}\n",
    "l=s.intersection(g)\n",
    "print(l)\n",
    "s.intersection_update(g)\n",
    "print(s)\n"
   ]
  },
  {
   "cell_type": "code",
   "execution_count": 98,
   "metadata": {},
   "outputs": [
    {
     "name": "stdout",
     "output_type": "stream",
     "text": [
      "{0, 3, 4, 8, 9}\n",
      "{0, 3, 4, 8, 9}\n"
     ]
    }
   ],
   "source": [
    "s={1,2,3,3,4}\n",
    "g={1,2,8,9,0}\n",
    "gs=s.symmetric_difference(g)\n",
    "print(gs)\n",
    "s.symmetric_difference_update(g)\n",
    "print(s)"
   ]
  },
  {
   "cell_type": "code",
   "execution_count": 99,
   "metadata": {},
   "outputs": [
    {
     "name": "stdout",
     "output_type": "stream",
     "text": [
      "{0, 3, 4, 8, 9}\n",
      "{0, 3, 4, 8, 9}\n"
     ]
    }
   ],
   "source": [
    "s={3,3,4}\n",
    "g={8,9,0}\n",
    "gs=s.symmetric_difference(g)\n",
    "print(gs)\n",
    "s.symmetric_difference_update(g)\n",
    "print(s)"
   ]
  },
  {
   "cell_type": "code",
   "execution_count": 104,
   "metadata": {},
   "outputs": [
    {
     "name": "stdout",
     "output_type": "stream",
     "text": [
      "True\n",
      "True\n",
      "False\n"
     ]
    }
   ],
   "source": [
    "s={1,2}\n",
    "g={1,2,8,9,0}\n",
    "print(s.issubset(g))\n",
    "print(g.issuperset(s))\n",
    "print(s.isdisjoint(g))"
   ]
  },
  {
   "cell_type": "code",
   "execution_count": 4,
   "metadata": {},
   "outputs": [
    {
     "name": "stdout",
     "output_type": "stream",
     "text": [
      "Enter a Number:5\n",
      "\n",
      "*\n",
      "**\n",
      "***\n",
      "****\n",
      "*****\n",
      "****\n",
      "***\n",
      "**\n",
      "*\n",
      "\n"
     ]
    }
   ],
   "source": [
    "n=int(input('Enter a Number:'))\n",
    "for i in range(0,n):\n",
    "    for i in range(0,i):\n",
    "        print('*',end=\"\")\n",
    "    print()\n",
    "for i in range(0,n+1):\n",
    "    for j in range(n,i,-1):\n",
    "        print('*',end=\"\")\n",
    "    print()"
   ]
  },
  {
   "cell_type": "code",
   "execution_count": 7,
   "metadata": {},
   "outputs": [
    {
     "name": "stdout",
     "output_type": "stream",
     "text": [
      "10\n"
     ]
    }
   ],
   "source": [
    "class A:\n",
    "    a=10\n",
    "    print(a)"
   ]
  },
  {
   "cell_type": "code",
   "execution_count": 18,
   "metadata": {},
   "outputs": [
    {
     "name": "stdout",
     "output_type": "stream",
     "text": [
      "5\n",
      "120\n"
     ]
    }
   ],
   "source": [
    "class simple:\n",
    "    n=int(input())\n",
    "    def __init__(self):\n",
    "        fact=1\n",
    "        for i in range(1,n+1):\n",
    "            fact=fact*i\n",
    "        print(fact)\n",
    "a=simple()\n"
   ]
  },
  {
   "cell_type": "code",
   "execution_count": 23,
   "metadata": {},
   "outputs": [
    {
     "name": "stdout",
     "output_type": "stream",
     "text": [
      "120\n"
     ]
    }
   ],
   "source": [
    "class simple:\n",
    "    def prime():\n",
    "        fact=1\n",
    "        for i in range(1,n+1):\n",
    "            fact=fact*i\n",
    "        print(fact)\n",
    "a=simple()\n",
    "a.bro(5)\n"
   ]
  },
  {
   "cell_type": "code",
   "execution_count": 74,
   "metadata": {},
   "outputs": [
    {
     "name": "stdout",
     "output_type": "stream",
     "text": [
      "65\n",
      "65 is not  prime\n"
     ]
    }
   ],
   "source": [
    "class Sunith:\n",
    "    def prime():\n",
    "        n=int(input())\n",
    "        flag=0\n",
    "        for i in range(2,n):\n",
    "            if n%i==0:\n",
    "                 flag=1\n",
    "        if flag==1:\n",
    "               print(n,\"is not  prime\")\n",
    "        else:\n",
    "            print(n,\"is prime\")\n",
    "k=Sunith\n",
    "k.prime()"
   ]
  },
  {
   "cell_type": "markdown",
   "metadata": {},
   "source": [
    "# Inheritance"
   ]
  },
  {
   "cell_type": "code",
   "execution_count": 76,
   "metadata": {},
   "outputs": [
    {
     "name": "stdout",
     "output_type": "stream",
     "text": [
      "From Child Class\n",
      "from Parent class\n"
     ]
    }
   ],
   "source": [
    "class A():\n",
    "    a=1\n",
    "    def ca():\n",
    "        return \"from Parent class\"\n",
    "class B(A):\n",
    "    b=2\n",
    "    def cb():\n",
    "        return \"From Child Class\"\n",
    "obj=B\n",
    "print(obj.cb())\n",
    "print(obj.ca())"
   ]
  },
  {
   "cell_type": "code",
   "execution_count": null,
   "metadata": {},
   "outputs": [],
   "source": []
  }
 ],
 "metadata": {
  "kernelspec": {
   "display_name": "Python 3",
   "language": "python",
   "name": "python3"
  },
  "language_info": {
   "codemirror_mode": {
    "name": "ipython",
    "version": 3
   },
   "file_extension": ".py",
   "mimetype": "text/x-python",
   "name": "python",
   "nbconvert_exporter": "python",
   "pygments_lexer": "ipython3",
   "version": "3.8.5"
  }
 },
 "nbformat": 4,
 "nbformat_minor": 4
}
